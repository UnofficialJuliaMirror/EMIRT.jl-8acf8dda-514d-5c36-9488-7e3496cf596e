{
 "cells": [
  {
   "cell_type": "code",
   "execution_count": 1,
   "metadata": {
    "collapsed": false
   },
   "outputs": [
    {
     "name": "stderr",
     "output_type": "stream",
     "text": [
      "INFO: Precompiling module Agglomeration.\n",
      "INFO: Precompiling module RegionGraphs.\n",
      "INFO: Precompiling module Agglomerators.\n",
      "\n",
      "WARNING: deprecated syntax \"call(agg::RandomForestAgglomerator, ...)\".\n",
      "Use \"(agg::RandomForestAgglomerator)(...)\" instead.\n",
      "\n",
      "WARNING: deprecated syntax \"call(agg::Agglomerators.AccumulatingAgglomerator, ...)\".\n",
      "Use \"(agg::Agglomerators.AccumulatingAgglomerator)(...)\" instead.\n",
      "\n",
      "WARNING: deprecated syntax \"call(agg::Agglomerators.AccumulatingAgglomerator, ...)\".\n",
      "Use \"(agg::Agglomerators.AccumulatingAgglomerator)(...)\" instead.\n",
      "\n",
      "WARNING: deprecated syntax \"call(agg::Agglomerators.ConstrainedAgglomerator, ...)\".\n",
      "Use \"(agg::Agglomerators.ConstrainedAgglomerator)(...)\" instead.\n",
      "\n",
      "WARNING: deprecated syntax \"call(agg::Agglomerators.ConstrainedAgglomerator, ...)\".\n",
      "Use \"(agg::Agglomerators.ConstrainedAgglomerator)(...)\" instead.\n",
      "\n",
      "WARNING: deprecated syntax \"call(agg::Agglomerators.LinearAgglomerator, ...)\".\n",
      "Use \"(agg::Agglomerators.LinearAgglomerator)(...)\" instead.\n",
      "\n",
      "WARNING: deprecated syntax \"call(agg::Agglomerators.LinearAgglomerator, ...)\".\n",
      "Use \"(agg::Agglomerators.LinearAgglomerator)(...)\" instead.\n",
      "\n",
      "WARNING: deprecated syntax \"call(agg::Agglomerators.MaxAffinityAgglomerator, ...)\".\n",
      "Use \"(agg::Agglomerators.MaxAffinityAgglomerator)(...)\" instead.\n",
      "\n",
      "WARNING: deprecated syntax \"call(agg::Agglomerators.MaxAffinityAgglomerator, ...)\".\n",
      "Use \"(agg::Agglomerators.MaxAffinityAgglomerator)(...)\" instead.\n",
      "\n",
      "WARNING: deprecated syntax \"call(agg::Agglomerators.MeanAffinityAgglomerator, ...)\".\n",
      "Use \"(agg::Agglomerators.MeanAffinityAgglomerator)(...)\" instead.\n",
      "\n",
      "WARNING: deprecated syntax \"call(agg::Agglomerators.MeanAffinityAgglomerator, ...)\".\n",
      "Use \"(agg::Agglomerators.MeanAffinityAgglomerator)(...)\" instead.\n",
      "\n",
      "WARNING: deprecated syntax \"call(agg::Agglomerators.RandomForestAgglomerator, ...)\".\n",
      "Use \"(agg::Agglomerators.RandomForestAgglomerator)(...)\" instead.\n",
      "\n",
      "WARNING: deprecated syntax \"call(agg::Agglomerators.RandomForestAgglomerator, ...)\".\n",
      "Use \"(agg::Agglomerators.RandomForestAgglomerator)(...)\" instead.\n",
      "\n",
      "WARNING: deprecated syntax \"call(agg::TeacherAgglomerator, ...)\".\n",
      "Use \"(agg::TeacherAgglomerator)(...)\" instead.\n",
      "\n",
      "WARNING: deprecated syntax \"call(agg::LinearAgglomerator, ...)\".\n",
      "Use \"(agg::LinearAgglomerator)(...)\" instead.\n",
      "\n",
      "WARNING: deprecated syntax \"call(agg::AccumulatingAgglomerator, ...)\".\n",
      "Use \"(agg::AccumulatingAgglomerator)(...)\" instead.\n",
      "\n",
      "WARNING: deprecated syntax \"call(agg::ConstrainedAgglomerator, ...)\".\n",
      "Use \"(agg::ConstrainedAgglomerator)(...)\" instead.\n",
      "\n",
      "WARNING: deprecated syntax \"call(agg::MeanAffinityAgglomerator, ...)\".\n",
      "Use \"(agg::MeanAffinityAgglomerator)(...)\" instead.\n",
      "\n",
      "WARNING: deprecated syntax \"call(agg::MaxAffinityAgglomerator, ...)\".\n",
      "Use \"(agg::MaxAffinityAgglomerator)(...)\" instead.\n",
      "INFO: Precompiling module SegmentationMetrics.\n",
      "INFO: Precompiling module MSTs.\n"
     ]
    },
    {
     "ename": "LoadError",
     "evalue": "LoadError: ArgumentError: Module ImageView not found in current path.\nRun `Pkg.add(\"ImageView\")` to install the ImageView package.\nwhile loading In[1], in expression starting on line 5",
     "output_type": "error",
     "traceback": [
      "LoadError: ArgumentError: Module ImageView not found in current path.\nRun `Pkg.add(\"ImageView\")` to install the ImageView package.\nwhile loading In[1], in expression starting on line 5",
      "",
      " in require(::Symbol) at ./loading.jl:396"
     ]
    }
   ],
   "source": [
    "using EMIRT\n",
    "using Watershed\n",
    "using Agglomeration\n",
    "using Process\n",
    "using ImageView\n",
    "include(joinpath(Pkg.dir(), \"EMIRT/plugins/show.jl\"))"
   ]
  },
  {
   "cell_type": "markdown",
   "metadata": {},
   "source": [
    "### read affinity, segment, evaluate"
   ]
  },
  {
   "cell_type": "code",
   "execution_count": 2,
   "metadata": {
    "collapsed": false
   },
   "outputs": [
    {
     "data": {
      "text/plain": [
       "\"/usr/people/jingpeng/seungmount/Omni/TracerTasks/ZFishEnsembleValidation/zfish_chunk_33405_8905_229.omni.seg.ben.h5\""
      ]
     },
     "execution_count": 2,
     "metadata": {},
     "output_type": "execute_result"
    }
   ],
   "source": [
    "faff = \"../assets/aff.h5\" #ARGS[1]\n",
    "flbl = \"../assets/lbl.h5\" #ARGS[2]\n",
    "fimg = \"/opt/znn-release/dataset/allen/Allen06_raw.h5\"\n",
    "faff = \"/usr/people/jingpeng/seungmount/research/Jingpeng/13_neuromancer/allen06/compare/gaffs_06.h5\"\n",
    "flbl = \"/opt/znn-release/dataset/allen/Allen06_lbl.h5\"\n",
    "\n",
    "fimg = \"/usr/people/jingpeng/seungmount/research/kisuklee/Sharing/Jingpeng/blend_test/img/chunk_33405_8905_229.img.h5\"\n",
    "faff = \"/usr/people/jingpeng/seungmount/research/kisuklee/Sharing/Jingpeng/blend_test/Ensemble/chunk_33405_8905_229.aff.h5\"\n",
    "# faff = \"/usr/people/jingpeng/seungmount/research/kisuklee/Sharing/Jingpeng/blend_test/JNet/chunk_33405_8905_229.aff.h5\"\n",
    "flbl = \"/usr/people/jingpeng/seungmount/Omni/TracerTasks/ZFishEnsembleValidation/zfish_chunk_33405_8905_229.omni.seg.ben.h5\""
   ]
  },
  {
   "cell_type": "code",
   "execution_count": 3,
   "metadata": {
    "collapsed": false
   },
   "outputs": [
    {
     "name": "stderr",
     "output_type": "stream",
     "text": [
      "INFO: use percentage threshold\n"
     ]
    },
    {
     "name": "stdout",
     "output_type": "stream",
     "text": [
      "watershed, low: 0.011188, high: 0.999852\n",
      "steepestascent...\n",
      "divideplateaus...\n",
      "findbasins!\n",
      "found: 2634396 components\n",
      "regiongraph...\n",
      "Region graph size: 12581227\n",
      "mergeregions...\n",
      "Done with merging\n",
      "Done with remapping, total: 9476 regions\n",
      "Done with updating the region graph, size: 55279\n",
      "merge 8800, 0.11711544710292365\n",
      "Merged to 585 regions\n"
     ]
    },
    {
     "data": {
      "text/plain": [
       "Dict{Symbol,Array{Float32,1}} with 17 entries:\n",
       "  :VIm   => Float32[7.22127,1.7804,0.412451,0.34912,0.310093,0.306728]\n",
       "  :rfs   => Float32[0.536625,0.512111,0.352276,0.247995,0.126628,0.110639]\n",
       "  :VIS   => Float32[-9.55995,-4.74026,-5.79945,-9.65976,-14.4316,-15.8629]\n",
       "  :res   => Float32[0.43406,0.457022,0.606746,0.70443,0.818119,0.833096]\n",
       "  :re    => Float32[1.35079,0.632563,0.617811,0.710823,0.819665,0.834575]\n",
       "  :VIFSs => Float32[0.884335,0.887374,0.820881,0.726659,0.637099,0.614478]\n",
       "  :rim   => Float32[0.502675,0.479713,0.329989,0.232306,0.118617,0.103639]\n",
       "  :rem   => Float32[0.916729,0.175541,0.0110653,0.00639328,0.00154603,0.0014793…\n",
       "  :VI    => Float32[9.55995,4.74026,5.79945,9.65976,14.4316,15.8629]\n",
       "  :ris   => Float32[-0.853464,-0.112276,0.0521995,0.0568714,0.0617188,0.0617855]\n",
       "  :rfm   => Float32[0.354145,0.732102,0.967556,0.973216,0.987134,0.985927]\n",
       "  :VIs   => Float32[2.33876,2.96024,5.38803,9.31243,14.1243,15.5593]\n",
       "  :thd   => Float32[0.0,0.2,0.4,0.6,0.8,1.0]\n",
       "  :VIFS  => Float32[0.789066,0.907749,0.894899,0.836739,0.774571,0.757658]\n",
       "  :rf    => Float32[0.426694,0.602658,0.5165,0.395268,0.224462,0.198952]\n",
       "  :VIFSm => Float32[0.712327,0.929082,0.983589,0.986126,0.987695,0.987835]\n",
       "  :ri    => Float32[-0.350788,0.367437,0.382189,0.289177,0.180335,0.165425]"
      ]
     },
     "execution_count": 3,
     "metadata": {},
     "output_type": "execute_result"
    }
   ],
   "source": [
    "aff = readaff(faff)\n",
    "lbl = readseg(flbl)\n",
    "\n",
    "seg = atomicseg(aff; is_threshold_relative=true)\n",
    "segmentPairs, segmentPairAffinities = Process.forward(aff, seg)\n",
    "sgm = EMIRT.SegMST(seg, segmentPairs, segmentPairAffinities)\n",
    "\n",
    "errorcurve = sgm2ec(sgm, lbl, 0:0.2:1)"
   ]
  },
  {
   "cell_type": "markdown",
   "metadata": {},
   "source": [
    "### overlay raw image with ground truth and segmentation"
   ]
  },
  {
   "cell_type": "code",
   "execution_count": null,
   "metadata": {
    "collapsed": false
   },
   "outputs": [
    {
     "name": "stderr",
     "output_type": "stream",
     "text": [
      "\n",
      "WARNING: deprecated syntax \"AbstractVecOrMat{T} (\" at /usr/people/jingpeng/.julia/v0.4/Winston/src/Winston.jl:96.\n",
      "Use \"AbstractVecOrMat{T}(\" instead.\n",
      "WARNING: requiring \"Dates\" in module \"Winston\" did not define a corresponding module.\n",
      "WARNING: module Winston should explicitly import * from Base\n"
     ]
    },
    {
     "name": "stdout",
     "output_type": "stream",
     "text": [
      "compare image and segmentation\n",
      "Usage: julia compare_img_seg.jl /path/of/img.h5 /path/of/seg.h5\n"
     ]
    },
    {
     "name": "stderr",
     "output_type": "stream",
     "text": [
      "WARNING: New definition \n",
      "    +(AbstractArray{T<:Any, 2}, WoodburyMatrices.SymWoodbury) at /usr/people/jingpeng/.julia/v0.4/WoodburyMatrices/src/SymWoodburyMatrices.jl:106\n",
      "is ambiguous with: \n",
      "    +(Images.AbstractImageDirect, AbstractArray) at /usr/people/jingpeng/.julia/v0.4/Images/src/algorithms.jl:18.\n",
      "To fix, define \n",
      "    +(Images.AbstractImageDirect{T<:Any, 2}, WoodburyMatrices.SymWoodbury)\n",
      "before the new definition.\n",
      "WARNING: New definition \n",
      "    +(AbstractArray, DataArrays.DataArray) at /usr/people/jingpeng/.julia/v0.4/DataArrays/src/operators.jl:276\n",
      "is ambiguous with: \n",
      "    +(Images.AbstractImageDirect, AbstractArray) at /usr/people/jingpeng/.julia/v0.4/Images/src/algorithms.jl:18.\n",
      "To fix, define \n",
      "    +(Images.AbstractImageDirect, DataArrays.DataArray)\n",
      "before the new definition.\n",
      "WARNING: New definition \n",
      "    +(AbstractArray, DataArrays.DataArray) at /usr/people/jingpeng/.julia/v0.4/DataArrays/src/operators.jl:276\n",
      "is ambiguous with: \n",
      "    +(WoodburyMatrices.SymWoodbury, AbstractArray{T<:Any, 2}) at /usr/people/jingpeng/.julia/v0.4/WoodburyMatrices/src/SymWoodburyMatrices.jl:107.\n",
      "To fix, define \n",
      "    +(WoodburyMatrices.SymWoodbury, DataArrays.DataArray{T<:Any, 2})\n",
      "before the new definition.\n",
      "WARNING: New definition \n",
      "    +(AbstractArray, DataArrays.AbstractDataArray) at /usr/people/jingpeng/.julia/v0.4/DataArrays/src/operators.jl:300\n",
      "is ambiguous with: \n",
      "    +(Images.AbstractImageDirect, AbstractArray) at /usr/people/jingpeng/.julia/v0.4/Images/src/algorithms.jl:18.\n",
      "To fix, define \n",
      "    +(Images.AbstractImageDirect, DataArrays.AbstractDataArray)\n",
      "before the new definition.\n",
      "WARNING: New definition \n",
      "    +(AbstractArray, DataArrays.AbstractDataArray) at /usr/people/jingpeng/.julia/v0.4/DataArrays/src/operators.jl:300\n",
      "is ambiguous with: \n",
      "    +(WoodburyMatrices.SymWoodbury, AbstractArray{T<:Any, 2}) at /usr/people/jingpeng/.julia/v0.4/WoodburyMatrices/src/SymWoodburyMatrices.jl:107.\n",
      "To fix, define \n",
      "    +(WoodburyMatrices.SymWoodbury, DataArrays.AbstractDataArray{T<:Any, 2})\n",
      "before the new definition.\n",
      "WARNING: New definition \n",
      "    ./(AbstractArray, Union{DataArrays.DataArray, DataArrays.PooledDataArray}) at /usr/people/jingpeng/.julia/v0.4/DataArrays/src/broadcast.jl:287\n",
      "is ambiguous with: \n",
      "    ./(Images.AbstractImageDirect, AbstractArray) at /usr/people/jingpeng/.julia/v0.4/Images/src/algorithms.jl:55.\n",
      "To fix, define \n",
      "    ./(Images.AbstractImageDirect, Union{DataArrays.DataArray, DataArrays.PooledDataArray})\n",
      "before the new definition.\n",
      "WARNING: New definition \n",
      "    .*(Union{DataArrays.DataArray, DataArrays.PooledDataArray}, AbstractArray...) at /usr/people/jingpeng/.julia/v0.4/DataArrays/src/broadcast.jl:297\n",
      "is ambiguous with: \n",
      "    .*(AbstractArray, Images.AbstractImageDirect) at /usr/people/jingpeng/.julia/v0.4/Images/src/algorithms.jl:52.\n",
      "To fix, define \n",
      "    .*(Union{DataArrays.DataArray, DataArrays.PooledDataArray}, Images.AbstractImageDirect)\n",
      "before the new definition.\n",
      "WARNING: New definition \n",
      "    .*(AbstractArray, Union{DataArrays.DataArray, DataArrays.PooledDataArray}, AbstractArray...) at /usr/people/jingpeng/.julia/v0.4/DataArrays/src/broadcast.jl:297\n",
      "is ambiguous with: \n",
      "    .*(Images.AbstractImageDirect, AbstractArray) at /usr/people/jingpeng/.julia/v0.4/Images/src/algorithms.jl:51.\n",
      "To fix, define \n",
      "    .*(Images.AbstractImageDirect, Union{DataArrays.DataArray, DataArrays.PooledDataArray})\n",
      "before the new definition.\n",
      "WARNING: New definition \n",
      "    .+(AbstractArray, Union{DataArrays.DataArray, DataArrays.PooledDataArray}, AbstractArray...) at /usr/people/jingpeng/.julia/v0.4/DataArrays/src/broadcast.jl:299\n",
      "is ambiguous with: \n",
      "    .+(Images.AbstractImageDirect, AbstractArray) at /usr/people/jingpeng/.julia/v0.4/Images/src/algorithms.jl:22.\n",
      "To fix, define \n",
      "    .+(Images.AbstractImageDirect, Union{DataArrays.DataArray, DataArrays.PooledDataArray})\n",
      "before the new definition.\n",
      "WARNING: New definition \n",
      "    .==(AbstractArray{Bool, N<:Any}, Union{DataArrays.PooledDataArray{Bool, R<:Integer, N<:Any}, DataArrays.DataArray{Bool, N<:Any}}) at /usr/people/jingpeng/.julia/v0.4/DataArrays/src/broadcast.jl:345\n",
      "is ambiguous with: \n",
      "    .==(Images.AbstractImageDirect{Bool, N<:Any}, AbstractArray{Bool, N<:Any}) at /usr/people/jingpeng/.julia/v0.4/Images/src/algorithms.jl:182.\n",
      "To fix, define \n",
      "    .==(Images.AbstractImageDirect{Bool, N<:Any}, Union{DataArrays.PooledDataArray{Bool, R<:Integer, N<:Any}, DataArrays.DataArray{Bool, N<:Any}})\n",
      "before the new definition.\n",
      "WARNING: New definition \n",
      "    .==(AbstractArray, Union{DataArrays.DataArray, DataArrays.PooledDataArray}) at /usr/people/jingpeng/.julia/v0.4/DataArrays/src/broadcast.jl:287\n",
      "is ambiguous with: \n",
      "    .==(Images.AbstractImageDirect{Bool, N<:Any}, AbstractArray{Bool, N<:Any}) at /usr/people/jingpeng/.julia/v0.4/Images/src/algorithms.jl:182.\n",
      "To fix, define \n",
      "    .==(Images.AbstractImageDirect{Bool, N<:Any}, Union{DataArrays.DataArray{Bool, N<:Any}, DataArrays.PooledDataArray{Bool, R<:Integer, N<:Any}})\n",
      "before the new definition.\n",
      "WARNING: New definition \n",
      "    .==(AbstractArray, Union{DataArrays.DataArray, DataArrays.PooledDataArray}) at /usr/people/jingpeng/.julia/v0.4/DataArrays/src/broadcast.jl:287\n",
      "is ambiguous with: \n",
      "    .==(Images.AbstractImageDirect, AbstractArray) at /usr/people/jingpeng/.julia/v0.4/Images/src/algorithms.jl:183.\n",
      "To fix, define \n",
      "    .==(Images.AbstractImageDirect, Union{DataArrays.DataArray, DataArrays.PooledDataArray})\n",
      "before the new definition.\n",
      "WARNING: New definition \n",
      "    .-(AbstractArray, Union{DataArrays.DataArray, DataArrays.PooledDataArray}) at /usr/people/jingpeng/.julia/v0.4/DataArrays/src/broadcast.jl:287\n",
      "is ambiguous with: \n",
      "    .-(Images.AbstractImageDirect, AbstractArray) at /usr/people/jingpeng/.julia/v0.4/Images/src/algorithms.jl:40.\n",
      "To fix, define \n",
      "    .-(Images.AbstractImageDirect, Union{DataArrays.DataArray, DataArrays.PooledDataArray})\n",
      "before the new definition.\n",
      "WARNING: New definition \n",
      "    convert(Type{Array{#S<:Any, N<:Any}}, DataArrays.DataArray{#T<:Any, #N<:Any}) at /usr/people/jingpeng/.julia/v0.4/DataArrays/src/dataarray.jl:371\n",
      "is ambiguous with: \n",
      "    convert(Type{Array{#T<:ColorTypes.Colorant, N<:Any}}, AbstractArray{#S<:Any, #n<:Any}) at /usr/people/jingpeng/.julia/v0.4/Images/src/core.jl:401.\n",
      "To fix, define \n",
      "    convert(Type{Array{_<:ColorTypes.Colorant, N<:Any}}, DataArrays.DataArray{#T<:Any, #N<:Any})\n",
      "before the new definition.\n",
      "WARNING: New definition \n",
      "    .>(AbstractArray{Bool, N<:Any}, Union{DataArrays.PooledDataArray{Bool, R<:Integer, N<:Any}, DataArrays.DataArray{Bool, N<:Any}}) at /usr/people/jingpeng/.julia/v0.4/DataArrays/src/broadcast.jl:345\n",
      "is ambiguous with: \n",
      "    .>(Images.AbstractImageDirect, AbstractArray) at /usr/people/jingpeng/.julia/v0.4/Images/src/algorithms.jl:180.\n",
      "To fix, define \n",
      "    .>(Images.AbstractImageDirect{Bool, N<:Any}, Union{DataArrays.PooledDataArray{Bool, R<:Integer, N<:Any}, DataArrays.DataArray{Bool, N<:Any}})\n",
      "before the new definition.\n",
      "WARNING: New definition \n",
      "    .>(AbstractArray, Union{DataArrays.DataArray, DataArrays.PooledDataArray}) at /usr/people/jingpeng/.julia/v0.4/DataArrays/src/broadcast.jl:287\n",
      "is ambiguous with: \n",
      "    .>(Images.AbstractImageDirect, AbstractArray) at /usr/people/jingpeng/.julia/v0.4/Images/src/algorithms.jl:180.\n",
      "To fix, define \n",
      "    .>(Images.AbstractImageDirect, Union{DataArrays.DataArray, DataArrays.PooledDataArray})\n",
      "before the new definition.\n",
      "WARNING: New definition \n",
      "    -(AbstractArray, DataArrays.DataArray) at /usr/people/jingpeng/.julia/v0.4/DataArrays/src/operators.jl:276\n",
      "is ambiguous with: \n",
      "    -(Images.AbstractImageDirect, AbstractArray) at /usr/people/jingpeng/.julia/v0.4/Images/src/algorithms.jl:35.\n",
      "To fix, define \n",
      "    -(Images.AbstractImageDirect, DataArrays.DataArray)\n",
      "before the new definition.\n",
      "WARNING: New definition \n",
      "    -(AbstractArray, DataArrays.AbstractDataArray) at /usr/people/jingpeng/.julia/v0.4/DataArrays/src/operators.jl:300\n",
      "is ambiguous with: \n",
      "    -(Images.AbstractImageDirect, AbstractArray) at /usr/people/jingpeng/.julia/v0.4/Images/src/algorithms.jl:35.\n",
      "To fix, define \n",
      "    -(Images.AbstractImageDirect, DataArrays.AbstractDataArray)\n",
      "before the new definition.\n",
      "WARNING: New definition \n",
      "    .<(AbstractArray{Bool, N<:Any}, Union{DataArrays.PooledDataArray{Bool, R<:Integer, N<:Any}, DataArrays.DataArray{Bool, N<:Any}}) at /usr/people/jingpeng/.julia/v0.4/DataArrays/src/broadcast.jl:345\n",
      "is ambiguous with: \n",
      "    .<(Images.AbstractImageDirect{Bool, N<:Any}, AbstractArray{Bool, N<:Any}) at /usr/people/jingpeng/.julia/v0.4/Images/src/algorithms.jl:178.\n",
      "To fix, define \n",
      "    .<(Images.AbstractImageDirect{Bool, N<:Any}, Union{DataArrays.PooledDataArray{Bool, R<:Integer, N<:Any}, DataArrays.DataArray{Bool, N<:Any}})\n",
      "before the new definition.\n",
      "WARNING: New definition \n",
      "    .<(AbstractArray, Union{DataArrays.DataArray, DataArrays.PooledDataArray}) at /usr/people/jingpeng/.julia/v0.4/DataArrays/src/broadcast.jl:287\n",
      "is ambiguous with: \n",
      "    .<(Images.AbstractImageDirect{Bool, N<:Any}, AbstractArray{Bool, N<:Any}) at /usr/people/jingpeng/.julia/v0.4/Images/src/algorithms.jl:178.\n",
      "To fix, define \n",
      "    .<(Images.AbstractImageDirect{Bool, N<:Any}, Union{DataArrays.DataArray{Bool, N<:Any}, DataArrays.PooledDataArray{Bool, R<:Integer, N<:Any}})\n",
      "before the new definition.\n",
      "WARNING: New definition \n",
      "    .<(AbstractArray, Union{DataArrays.DataArray, DataArrays.PooledDataArray}) at /usr/people/jingpeng/.julia/v0.4/DataArrays/src/broadcast.jl:287\n",
      "is ambiguous with: \n",
      "    .<(Images.AbstractImageDirect, AbstractArray) at /usr/people/jingpeng/.julia/v0.4/Images/src/algorithms.jl:179.\n",
      "To fix, define \n",
      "    .<(Images.AbstractImageDirect, Union{DataArrays.DataArray, DataArrays.PooledDataArray})\n",
      "before the new definition.\n",
      "WARNING: Method definition union!(Base.Dict{UInt32, UInt32}, Base.Dict{UInt32, UInt32}) in module EMIRT at /usr/people/jingpeng/.julia/v0.4/EMIRT/src/domains.jl:100 overwritten in module Main at /usr/people/jingpeng/.julia/v0.4/EMIRT/plugins/../src/domains.jl:100.\n",
      "WARNING: Method definition append!(Base.Dict{Symbol, Array{Float32, 1}}, Symbol, Float32) in module EMIRT at /usr/people/jingpeng/.julia/v0.4/EMIRT/src/errorcurve.jl:9 overwritten in module Main at /usr/people/jingpeng/.julia/v0.4/EMIRT/plugins/../src/errorcurve.jl:9.\n",
      "WARNING: Method definition append!(Base.Dict{Symbol, Array{Float32, 1}}, Float32, Float32, Float32, Float32, Float32, Float32, Float32) in module EMIRT at /usr/people/jingpeng/.julia/v0.4/EMIRT/src/errorcurve.jl:19 overwritten in module Main at /usr/people/jingpeng/.julia/v0.4/EMIRT/plugins/../src/errorcurve.jl:19.\n",
      "WARNING: Method definition append!(Base.Dict{Symbol, Array{Float32, 1}}, Float32, Base.Dict{Symbol, Float32}) in module EMIRT at /usr/people/jingpeng/.julia/v0.4/EMIRT/src/errorcurve.jl:30 overwritten in module Main at /usr/people/jingpeng/.julia/v0.4/EMIRT/plugins/../src/errorcurve.jl:30.\n",
      "WARNING: Method definition append!(Base.Dict{Symbol, Array{Float32, 1}}, Base.Dict{Symbol, Float32}) in module EMIRT at /usr/people/jingpeng/.julia/v0.4/EMIRT/src/errorcurve.jl:36 overwritten in module Main at /usr/people/jingpeng/.julia/v0.4/EMIRT/plugins/../src/errorcurve.jl:36.\n",
      "WARNING: Method definition append!(Base.Dict{Symbol, Base.Dict{Symbol, Array{Float32, 1}}}, Symbol, Float32) in module EMIRT at /usr/people/jingpeng/.julia/v0.4/EMIRT/src/errorcurve.jl:47 overwritten in module Main at /usr/people/jingpeng/.julia/v0.4/EMIRT/plugins/../src/errorcurve.jl:47.\n",
      "WARNING: Method definition append!(Array, Base.Dict{Symbol, Base.Dict{Symbol, Array{Float32, 1}}}, Symbol, Float32) in module EMIRT overwritten in module Main.\n",
      "WARNING: Method definition append!(Base.Dict{Symbol, Base.Dict{Symbol, Array{Float32, 1}}}, Base.Dict{Symbol, Float32}) in module EMIRT at /usr/people/jingpeng/.julia/v0.4/EMIRT/src/errorcurve.jl:52 overwritten in module Main at /usr/people/jingpeng/.julia/v0.4/EMIRT/plugins/../src/errorcurve.jl:52.\n",
      "WARNING: Method definition append!(Array, Base.Dict{Symbol, Base.Dict{Symbol, Array{Float32, 1}}}, Base.Dict{Symbol, Float32}) in module EMIRT overwritten in module Main.\n",
      "WARNING: Method definition append!(Base.Dict{Symbol, Base.Dict{Symbol, Array{Float32, 1}}}, Base.Dict{Symbol, Array{Float32, 1}}) in module EMIRT at /usr/people/jingpeng/.julia/v0.4/EMIRT/src/errorcurve.jl:57 overwritten in module Main at /usr/people/jingpeng/.julia/v0.4/EMIRT/plugins/../src/errorcurve.jl:57.\n",
      "WARNING: Method definition append!(Array, Base.Dict{Symbol, Base.Dict{Symbol, Array{Float32, 1}}}, Base.Dict{Symbol, Array{Float32, 1}}) in module EMIRT overwritten in module Main.\n",
      "WARNING: Method definition fetch(Base.Dict{Symbol, Base.Dict{Symbol, Array{Float32, 1}}}) in module EMIRT at /usr/people/jingpeng/.julia/v0.4/EMIRT/src/errorcurve.jl:73 overwritten in module Main at /usr/people/jingpeng/.julia/v0.4/EMIRT/plugins/../src/errorcurve.jl:73.\n",
      "WARNING: Method definition fetch(Base.Dict{Symbol, Base.Dict{Symbol, Array{Float32, 1}}}, Symbol) in module EMIRT at /usr/people/jingpeng/.julia/v0.4/EMIRT/src/errorcurve.jl:73 overwritten in module Main at /usr/people/jingpeng/.julia/v0.4/EMIRT/plugins/../src/errorcurve.jl:73.\n",
      "WARNING: Method definition take!(Base.Dict{Symbol, Base.Dict{Symbol, Array{Float32, 1}}}) in module EMIRT at /usr/people/jingpeng/.julia/v0.4/EMIRT/src/errorcurve.jl:80 overwritten in module Main at /usr/people/jingpeng/.julia/v0.4/EMIRT/plugins/../src/errorcurve.jl:80.\n",
      "WARNING: Method definition take!(Base.Dict{Symbol, Base.Dict{Symbol, Array{Float32, 1}}}, Symbol) in module EMIRT at /usr/people/jingpeng/.julia/v0.4/EMIRT/src/errorcurve.jl:80 overwritten in module Main at /usr/people/jingpeng/.julia/v0.4/EMIRT/plugins/../src/errorcurve.jl:80.\n"
     ]
    }
   ],
   "source": [
    "run(`julia overlay_img_seg.jl $fimg $flbl`)"
   ]
  },
  {
   "cell_type": "code",
   "execution_count": null,
   "metadata": {
    "collapsed": false
   },
   "outputs": [],
   "source": [
    "saveseg(\"/tmp/seg.h5\", segment(sgm, 0.6))\n",
    "run(`julia overlay_img_seg.jl $fimg /tmp/seg.h5`)"
   ]
  },
  {
   "cell_type": "code",
   "execution_count": null,
   "metadata": {
    "collapsed": false
   },
   "outputs": [],
   "source": [
    "include(joinpath(Pkg.dir(), \"EMIRT/plugins/utils.jl\"))\n",
    "# ec2df(ecs[:jnet])\n",
    "df = ecs2df(ecs)\n",
    "ecs[:jnet]\n",
    "df"
   ]
  },
  {
   "cell_type": "code",
   "execution_count": null,
   "metadata": {
    "collapsed": false
   },
   "outputs": [],
   "source": [
    "collect(keys(first(values(ecs))))\n",
    "# Vector{Symbol}(keys(values(ecs)[1]))"
   ]
  },
  {
   "cell_type": "markdown",
   "metadata": {},
   "source": [
    "### plot the evaluation measurements"
   ]
  },
  {
   "cell_type": "code",
   "execution_count": null,
   "metadata": {
    "collapsed": false
   },
   "outputs": [],
   "source": [
    "# ecs = ScoreCurves()\n",
    "append!(ecs, errorcurve, :ensemble)\n",
    "#ecs = ec2ecs(errorcurve)\n",
    "# transform to dataform\n",
    "df = ecs2df(ecs)"
   ]
  },
  {
   "cell_type": "code",
   "execution_count": null,
   "metadata": {
    "collapsed": false
   },
   "outputs": [],
   "source": [
    "plot(df, x=\"thd\", y=\"rf\", Geom.line,\n",
    "               Guide.xlabel(\"threshold\"),\n",
    "               Guide.ylabel(\"rand f score\"))"
   ]
  },
  {
   "cell_type": "code",
   "execution_count": null,
   "metadata": {
    "collapsed": false
   },
   "outputs": [],
   "source": [
    "plot(df, x=\"thd\", y=\"re\", Geom.line,\n",
    "               Guide.xlabel(\"threshold\"),\n",
    "               Guide.ylabel(\"rand error\"))"
   ]
  },
  {
   "cell_type": "code",
   "execution_count": null,
   "metadata": {
    "collapsed": false
   },
   "outputs": [],
   "source": [
    "plot(df, x=\"rfm\", y=\"rfs\", Geom.line,\n",
    "                 Guide.xlabel(\"rand f score of mergers\"),\n",
    "                 Guide.ylabel(\"rand f score of splitters\"))"
   ]
  },
  {
   "cell_type": "code",
   "execution_count": null,
   "metadata": {
    "collapsed": false
   },
   "outputs": [],
   "source": [
    "plot(df, x=\"rem\", y=\"res\", Geom.line,\n",
    "                 Guide.xlabel(\"rand error of mergers\"),\n",
    "                 Guide.ylabel(\"rand error of splitters\"))"
   ]
  },
  {
   "cell_type": "code",
   "execution_count": null,
   "metadata": {
    "collapsed": true
   },
   "outputs": [],
   "source": []
  }
 ],
 "metadata": {
  "kernelspec": {
   "display_name": "Julia 0.6.0-dev",
   "language": "julia",
   "name": "julia-0.6"
  },
  "language_info": {
   "file_extension": ".jl",
   "mimetype": "application/julia",
   "name": "julia",
   "version": "0.6.0"
  }
 },
 "nbformat": 4,
 "nbformat_minor": 0
}
