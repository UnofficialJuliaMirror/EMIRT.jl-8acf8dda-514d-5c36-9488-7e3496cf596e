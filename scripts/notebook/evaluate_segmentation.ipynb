{
 "cells": [
  {
   "cell_type": "code",
   "execution_count": 26,
   "metadata": {
    "collapsed": false
   },
   "outputs": [],
   "source": [
    "using EMIRT\n",
    "using HDF5\n",
    "using Images"
   ]
  },
  {
   "cell_type": "code",
   "execution_count": 27,
   "metadata": {
    "collapsed": false
   },
   "outputs": [
    {
     "data": {
      "text/plain": [
       "EMIRT.SegMST(UInt32[0x00000001 0x00000001 … 0x00000018 0x00000018; 0x00000001 0x00000001 … 0x00000018 0x00000018; … ; 0x0000000a 0x0000000a … 0x00000051 0x00000051; 0x0000000a 0x0000000a … 0x00000051 0x00000051]\n",
       "\n",
       "UInt32[0x00000001 0x00000001 … 0x00000018 0x00000018; 0x00000001 0x00000001 … 0x00000018 0x00000018; … ; 0x0000000a 0x0000000a … 0x00000051 0x00000051; 0x0000000a 0x0000000a … 0x00000051 0x00000051]\n",
       "\n",
       "UInt32[0x00000002 0x00000002 … 0x00000018 0x00000018; 0x00000002 0x00000002 … 0x00000018 0x00000018; … ; 0x0000000a 0x0000000a … 0x00000051 0x00000051; 0x0000000a 0x0000000a … 0x00000051 0x00000051]\n",
       "\n",
       "...\n",
       "\n",
       "UInt32[0x000008cb 0x000008cb … 0x000008da 0x000008da; 0x000008cb 0x000008cb … 0x000008da 0x000008da; … ; 0x000006f3 0x000006f3 … 0x00000000 0x00000000; 0x000006f3 0x000006f3 … 0x00000000 0x00000000]\n",
       "\n",
       "UInt32[0x000008cb 0x000008cb … 0x000008da 0x000008da; 0x000008cb 0x000008cb … 0x000008da 0x000008da; … ; 0x00000000 0x00000000 … 0x00000000 0x00000000; 0x00000000 0x00000000 … 0x00000000 0x00000000]\n",
       "\n",
       "UInt32[0x000008cb 0x000008cb … 0x000008da 0x000008da; 0x000008cb 0x000008cb … 0x000008da 0x000008da; … ; 0x000006f3 0x000006f3 … 0x00000000 0x00000000; 0x000006f3 0x000006f3 … 0x00000000 0x00000000],UInt32[0x0000074d 0x0000074c; 0x00000722 0x0000074c; … ; 0x000003b0 0x0000039c; 0x0000039d 0x0000039c],Float32[0.635173,0.414161,0.81678,0.470796,0.840878,0.628619,0.353839,0.42672,0.595273,0.668045  …  0.647717,0.523825,0.809463,0.879145,0.784724,0.763901,0.309026,0.784083,0.847697,0.820092])"
      ]
     },
     "execution_count": 27,
     "metadata": {},
     "output_type": "execute_result"
    }
   ],
   "source": [
    "img  = h5read(\"/usr/people/jingpeng/seungmount/research/kisuklee/Workbench/deep_learning/kaffe/datasets/pinky/ground_truth/vol34/img.h5\", \"main\")\n",
    "sgm1 = readsgm(\"/usr/people/jingpeng/seungmount/research/Jingpeng/17_pinky40/test/jknet/vol34_1-513_1-513_1-100.sgm.h5\")\n",
    "sgm2 = readsgm(\"/usr/people/jingpeng/seungmount/research/Jingpeng/17_pinky40/test/jknetlarge/vol34_1-513_1-513_1-100.sgm.h5\")"
   ]
  },
  {
   "cell_type": "code",
   "execution_count": 28,
   "metadata": {
    "collapsed": false
   },
   "outputs": [
    {
     "data": {
      "text/html": [],
      "text/plain": [
       "Interact.Slider{Int64}(Signal{Int64}(50, nactions=0),\"z\",50,1:100,true)"
      ]
     },
     "metadata": {},
     "output_type": "display_data"
    },
    {
     "ename": "LoadError",
     "evalue": "MethodError: no method matching hstack(::Array{ColorTypes.RGB{FixedPointNumbers.UFixed{UInt8,8}},2}, ::Array{ColorTypes.RGB{FixedPointNumbers.UFixed{UInt8,8}},2})\nClosest candidates are:\n  hstack(::Any, ::Any, !Matched::Any, !Matched::Tuple{Compose.Context,Compose.VAlignment}...) at /usr/people/jingpeng/.julia/v0.5/Compose/src/stack.jl:15",
     "output_type": "error",
     "traceback": [
      "MethodError: no method matching hstack(::Array{ColorTypes.RGB{FixedPointNumbers.UFixed{UInt8,8}},2}, ::Array{ColorTypes.RGB{FixedPointNumbers.UFixed{UInt8,8}},2})\nClosest candidates are:\n  hstack(::Any, ::Any, !Matched::Any, !Matched::Tuple{Compose.Context,Compose.VAlignment}...) at /usr/people/jingpeng/.julia/v0.5/Compose/src/stack.jl:15",
      "",
      " in (::##24#25)(::Int64) at ./In[28]:12",
      " in (::Base.#kw##map)(::Array{Any,1}, ::Base.#map, ::Function, ::Reactive.Signal{Int64}) at ./<missing>:0"
     ]
    }
   ],
   "source": [
    "using Interact\n",
    "using Compose\n",
    "\n",
    "thd = 0.3\n",
    "seg1 = merge(sgm1, thd)\n",
    "seg2 = merge(sgm2, thd)\n",
    "rgb1 = EMIRT.seg_overlay_img( img, seg1 )\n",
    "rgb2 = EMIRT.seg_overlay_img( img, seg2 )\n",
    "rgb1image = Image(rgb1, pixelspacing=[4,4,40], spatialorder=[\"x\",\"y\", \"z\"])\n",
    "rgb2image = Image(rgb2, pixelspacing=[4,4,40], spatialorder=[\"x\",\"y\", \"z\"])\n",
    "@manipulate for z in 1:size(img,3)   \n",
    "    Compose.hstack(rgb1image[:,:,z], rgb2image[:,:,z])\n",
    "end"
   ]
  },
  {
   "cell_type": "code",
   "execution_count": 35,
   "metadata": {
    "collapsed": false
   },
   "outputs": [
    {
     "data": {
      "text/plain": [
       "(ImageCanvas,ImageSlice2d: zoom = Graphics.BoundingBox(0.0,513.0,0.0,513.0), z = 1)"
      ]
     },
     "execution_count": 35,
     "metadata": {},
     "output_type": "execute_result"
    }
   ],
   "source": [
    "using Images\n",
    "rgb2image = Image(rgb2, pixelspacing=[4,4,40], spatialorder=[\"x\",\"y\", \"z\"])\n",
    "using ImageView\n",
    "ImageView.view(rgb2image)"
   ]
  },
  {
   "cell_type": "code",
   "execution_count": 34,
   "metadata": {
    "collapsed": false
   },
   "outputs": [
    {
     "data": {
      "text/plain": [
       "(ImageCanvas,ImageSlice2d: zoom = Graphics.BoundingBox(0.0,513.0,0.0,513.0), z = 1)"
      ]
     },
     "execution_count": 34,
     "metadata": {},
     "output_type": "execute_result"
    }
   ],
   "source": [
    "using Images\n",
    "rgb1image = Image(rgb1, pixelspacing=[4,4,40], spatialorder=[\"x\",\"y\", \"z\"])\n",
    "using ImageView\n",
    "ImageView.view(rgb1image)"
   ]
  },
  {
   "cell_type": "code",
   "execution_count": 31,
   "metadata": {
    "collapsed": false
   },
   "outputs": [
    {
     "data": {
      "text/plain": [
       "UFixed{UInt8,8}(0.298)"
      ]
     },
     "execution_count": 31,
     "metadata": {},
     "output_type": "execute_result"
    }
   ],
   "source": [
    " rand(Colors.RGB{U8}, 3,3)\n",
    "RGB{U8}(0.3,0.2,0.1).r\n"
   ]
  },
  {
   "cell_type": "code",
   "execution_count": 32,
   "metadata": {
    "collapsed": false
   },
   "outputs": [
    {
     "data": {
      "image/png": "[encoded data removed]",
      "text/plain": [
       "8×8 Array{RGB{Float64},2}:\n",
       " RGB{Float64}(0.0618192,0.431232,0.679719)  …  RGB{Float64}(0.769124,0.787531,0.381986)  \n",
       " RGB{Float64}(0.0153395,0.981148,0.274193)     RGB{Float64}(0.326243,0.191238,0.644995)  \n",
       " RGB{Float64}(0.935404,0.415418,0.733242)      RGB{Float64}(0.303456,0.487048,0.908506)  \n",
       " RGB{Float64}(0.82947,0.0592137,0.298699)      RGB{Float64}(0.856028,0.81924,0.737056)   \n",
       " RGB{Float64}(0.279159,0.886365,0.541562)      RGB{Float64}(0.267759,0.0875998,0.0577117)\n",
       " RGB{Float64}(0.717584,0.54379,0.964828)    …  RGB{Float64}(0.079187,0.491955,0.914424)  \n",
       " RGB{Float64}(0.740821,0.973432,0.148089)      RGB{Float64}(0.411377,0.829326,0.378084)  \n",
       " RGB{Float64}(0.704911,0.837959,0.993683)      RGB{Float64}(0.611623,0.965214,0.517842)  "
      ]
     },
     "execution_count": 32,
     "metadata": {},
     "output_type": "execute_result"
    }
   ],
   "source": [
    "using ImageCore\n",
    "img = colorview(RGB, rand(3, 8, 8))        # encodes as a 2d RGB{Float64} array"
   ]
  },
  {
   "cell_type": "code",
   "execution_count": 33,
   "metadata": {
    "collapsed": false
   },
   "outputs": [
    {
     "data": {
      "text/plain": [
       "(8,8)"
      ]
     },
     "execution_count": 33,
     "metadata": {},
     "output_type": "execute_result"
    }
   ],
   "source": [
    "typeof(img)\n",
    "size(img)"
   ]
  },
  {
   "cell_type": "code",
   "execution_count": null,
   "metadata": {
    "collapsed": true
   },
   "outputs": [],
   "source": []
  }
 ],
 "metadata": {
  "kernelspec": {
   "display_name": "Julia 0.5.0",
   "language": "julia",
   "name": "julia-0.5"
  },
  "language_info": {
   "file_extension": ".jl",
   "mimetype": "application/julia",
   "name": "julia",
   "version": "0.5.0"
  }
 },
 "nbformat": 4,
 "nbformat_minor": 0
}
